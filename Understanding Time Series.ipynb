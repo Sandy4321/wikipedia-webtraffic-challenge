{
 "cells": [
  {
   "cell_type": "markdown",
   "metadata": {},
   "source": [
    "Disclaimer: this is just me going through the example on https://www.analyticsvidhya.com/blog/2015/12/complete-tutorial-time-series-modeling/. I've coppied a lot of content to make this notebook conherent. Thanks to Tavish Srivastava for an awesome tutorial"
   ]
  },
  {
   "cell_type": "markdown",
   "metadata": {},
   "source": [
    "# First Bash At It"
   ]
  },
  {
   "cell_type": "markdown",
   "metadata": {},
   "source": [
    "$${x_n} = {\\alpha _{n - 1}}{x_{n - 1}} + {\\alpha _{n - 2}}{x_{n - 2}} + {\\alpha _{n - 3}}{x_{n - 3}} + {\\alpha _{n - 4}}{x_{n - 4}}$$"
   ]
  },
  {
   "cell_type": "markdown",
   "metadata": {},
   "source": [
    "Checking what is happening"
   ]
  },
  {
   "cell_type": "code",
   "execution_count": 24,
   "metadata": {},
   "outputs": [
    {
     "data": {
      "text/html": [
       "<table>\n",
       "<thead><tr><th scope=col>Xn</th><th scope=col>Xn.1</th><th scope=col>Xn.2</th><th scope=col>Xn.3</th><th scope=col>Xn.4</th></tr></thead>\n",
       "<tbody>\n",
       "\t<tr><td>10</td><td>1 </td><td>1 </td><td>1 </td><td>1 </td></tr>\n",
       "\t<tr><td>20</td><td>2 </td><td>2 </td><td>2 </td><td>2 </td></tr>\n",
       "\t<tr><td>30</td><td>3 </td><td>3 </td><td>3 </td><td>3 </td></tr>\n",
       "\t<tr><td>40</td><td>4 </td><td>4 </td><td>4 </td><td>4 </td></tr>\n",
       "\t<tr><td>50</td><td>5 </td><td>5 </td><td>5 </td><td>5 </td></tr>\n",
       "</tbody>\n",
       "</table>\n"
      ],
      "text/latex": [
       "\\begin{tabular}{r|lllll}\n",
       " Xn & Xn.1 & Xn.2 & Xn.3 & Xn.4\\\\\n",
       "\\hline\n",
       "\t 10 & 1  & 1  & 1  & 1 \\\\\n",
       "\t 20 & 2  & 2  & 2  & 2 \\\\\n",
       "\t 30 & 3  & 3  & 3  & 3 \\\\\n",
       "\t 40 & 4  & 4  & 4  & 4 \\\\\n",
       "\t 50 & 5  & 5  & 5  & 5 \\\\\n",
       "\\end{tabular}\n"
      ],
      "text/markdown": [
       "\n",
       "Xn | Xn.1 | Xn.2 | Xn.3 | Xn.4 | \n",
       "|---|---|---|---|---|\n",
       "| 10 | 1  | 1  | 1  | 1  | \n",
       "| 20 | 2  | 2  | 2  | 2  | \n",
       "| 30 | 3  | 3  | 3  | 3  | \n",
       "| 40 | 4  | 4  | 4  | 4  | \n",
       "| 50 | 5  | 5  | 5  | 5  | \n",
       "\n",
       "\n"
      ],
      "text/plain": [
       "  Xn Xn.1 Xn.2 Xn.3 Xn.4\n",
       "1 10 1    1    1    1   \n",
       "2 20 2    2    2    2   \n",
       "3 30 3    3    3    3   \n",
       "4 40 4    4    4    4   \n",
       "5 50 5    5    5    5   "
      ]
     },
     "metadata": {},
     "output_type": "display_data"
    }
   ],
   "source": [
    "X = matrix(c(10,1,1,1,1\n",
    "            ,20,2,2,2,2\n",
    "            ,30,3,3,3,3\n",
    "            ,40,4,4,4,4\n",
    "            ,50,5,5,5,5), nrow=5)\n",
    "X = as.data.frame(t(X))\n",
    "names(X) = c(\"Xn\", \"Xn.1\", \"Xn.2\", \"Xn.3\", \"Xn.4\")\n",
    "X"
   ]
  },
  {
   "cell_type": "code",
   "execution_count": 27,
   "metadata": {},
   "outputs": [
    {
     "data": {
      "text/plain": [
       "\n",
       "Call:\n",
       "lm(formula = Xn ~ ., data = X)\n",
       "\n",
       "Coefficients:\n",
       "(Intercept)         Xn.1         Xn.2         Xn.3         Xn.4  \n",
       "  3.178e-14    1.000e+01           NA           NA           NA  \n"
      ]
     },
     "metadata": {},
     "output_type": "display_data"
    }
   ],
   "source": [
    "lm(Xn~., data=X)"
   ]
  },
  {
   "cell_type": "markdown",
   "metadata": {},
   "source": [
    "Following along [A Complete Tutorial on Time Series Modeling in R\n",
    "](https://www.analyticsvidhya.com/blog/2015/12/complete-tutorial-time-series-modeling/)\n",
    "\n",
    "## Stationary Series\n",
    "$$\\mu \\ne f(t)$$\n",
    "![](https://www.analyticsvidhya.com/wp-content/uploads/2015/02/Mean_nonstationary.png)\n",
    "$$\\sigma \\ne f(t)$$\n",
    "![](https://www.analyticsvidhya.com/wp-content/uploads/2015/02/Var_nonstationary.png)\n",
    "$$cov(i,i+m) \\ne f(t)$$ \n",
    "![](https://www.analyticsvidhya.com/wp-content/uploads/2015/02/Cov_nonstationary.png)"
   ]
  },
  {
   "cell_type": "markdown",
   "metadata": {},
   "source": [
    "### Why do I care about ‘stationarity’ of a time series?\n",
    "\n",
    "The reason I took up this section first was that until unless your time series is stationary, you cannot build a time series model. In cases where the stationary criterion are violated, the first requisite becomes to stationarize the time series and then try stochastic models to predict this time series. There are multiple ways of bringing this stationarity. Some of them are Detrending, Differencing etc.\n",
    "\n",
    "Imagine a girl moving randomly on a giant chess board. In this case, next position of the girl is only dependent on the last position.\n",
    "\n",
    "Now imagine, you are sitting in another room and are not able to see the girl. You want to predict the position of the girl with time. \n",
    "\n",
    "$X_t=X_{t-1}+e_t$"
   ]
  },
  {
   "cell_type": "code",
   "execution_count": null,
   "metadata": {
    "collapsed": true
   },
   "outputs": [],
   "source": []
  }
 ],
 "metadata": {
  "kernelspec": {
   "display_name": "R",
   "language": "R",
   "name": "ir"
  },
  "language_info": {
   "codemirror_mode": "r",
   "file_extension": ".r",
   "mimetype": "text/x-r-source",
   "name": "R",
   "pygments_lexer": "r",
   "version": "3.3.3"
  }
 },
 "nbformat": 4,
 "nbformat_minor": 2
}
