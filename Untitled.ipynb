{
 "cells": [
  {
   "cell_type": "code",
   "execution_count": 1,
   "metadata": {},
   "outputs": [
    {
     "name": "stderr",
     "output_type": "stream",
     "text": [
      "Loading tidyverse: ggplot2\n",
      "Loading tidyverse: tibble\n",
      "Loading tidyverse: tidyr\n",
      "Loading tidyverse: readr\n",
      "Loading tidyverse: purrr\n",
      "Loading tidyverse: dplyr\n",
      "Conflicts with tidy packages ---------------------------------------------------\n",
      "filter(): dplyr, stats\n",
      "lag():    dplyr, stats\n"
     ]
    }
   ],
   "source": [
    "library(tidyverse)"
   ]
  },
  {
   "cell_type": "code",
   "execution_count": 2,
   "metadata": {
    "collapsed": true
   },
   "outputs": [],
   "source": [
    "df = as_tibble(read.csv('./data/train_1.csv'))"
   ]
  },
  {
   "cell_type": "code",
   "execution_count": 9,
   "metadata": {},
   "outputs": [
    {
     "data": {
      "text/html": [
       "<table>\n",
       "<thead><tr><th scope=col>Page</th><th scope=col>X2015.07.01</th><th scope=col>X2015.07.02</th><th scope=col>X2015.07.03</th><th scope=col>X2015.07.04</th><th scope=col>X2015.07.05</th><th scope=col>X2015.07.06</th><th scope=col>X2015.07.07</th><th scope=col>X2015.07.08</th><th scope=col>X2015.07.09</th><th scope=col>⋯</th><th scope=col>X2016.12.22</th><th scope=col>X2016.12.23</th><th scope=col>X2016.12.24</th><th scope=col>X2016.12.25</th><th scope=col>X2016.12.26</th><th scope=col>X2016.12.27</th><th scope=col>X2016.12.28</th><th scope=col>X2016.12.29</th><th scope=col>X2016.12.30</th><th scope=col>X2016.12.31</th></tr></thead>\n",
       "<tbody>\n",
       "\t<tr><td>Main_Page_en.wikipedia.org_all-access_all-agents           </td><td>20381245                                                   </td><td>20752194                                                   </td><td>19573967                                                   </td><td>20439645                                                   </td><td>20772109                                                   </td><td>22544669                                                   </td><td>21210887                                                   </td><td>19107911                                                   </td><td>19993848                                                   </td><td>⋯                                                          </td><td>24201081                                                   </td><td>22539246                                                   </td><td>25056620                                                   </td><td>25865746                                                   </td><td>28342885                                                   </td><td>26916991                                                   </td><td>27025053                                                   </td><td>26073819                                                   </td><td>24363967                                                   </td><td>26149541                                                   </td></tr>\n",
       "\t<tr><td>Main_Page_en.wikipedia.org_desktop_all-agents              </td><td>11952559                                                   </td><td>12344021                                                   </td><td>11195848                                                   </td><td>11982470                                                   </td><td>12379684                                                   </td><td>14164829                                                   </td><td>12917172                                                   </td><td>11089923                                                   </td><td>12067334                                                   </td><td>⋯                                                          </td><td>18583108                                                   </td><td>16634676                                                   </td><td>18554711                                                   </td><td>18918826                                                   </td><td>21473188                                                   </td><td>20065005                                                   </td><td>19751910                                                   </td><td>19211634                                                   </td><td>17100925                                                   </td><td>19591761                                                   </td></tr>\n",
       "\t<tr><td>Main_Page_en.wikipedia.org_mobile-web_all-agents           </td><td> 8039732                                                   </td><td> 8018607                                                   </td><td> 7980511                                                   </td><td> 8024814                                                   </td><td> 7929962                                                   </td><td> 7959839                                                   </td><td> 7892357                                                   </td><td> 7607871                                                   </td><td> 7515302                                                   </td><td>⋯                                                          </td><td> 3892453                                                   </td><td> 3816041                                                   </td><td> 3728439                                                   </td><td> 4168094                                                   </td><td> 4243273                                                   </td><td> 4097335                                                   </td><td> 4168668                                                   </td><td> 4100929                                                   </td><td> 4118692                                                   </td><td> 3939419                                                   </td></tr>\n",
       "\t<tr><td>Wikipedia:Hauptseite_de.wikipedia.org_all-access_all-agents</td><td> 2983623                                                   </td><td> 2965848                                                   </td><td> 2900702                                                   </td><td> 2687450                                                   </td><td> 2827409                                                   </td><td> 3062343                                                   </td><td> 2999196                                                   </td><td> 2995270                                                   </td><td> 2995810                                                   </td><td>⋯                                                          </td><td> 3517877                                                   </td><td> 3520937                                                   </td><td> 3188722                                                   </td><td> 3643490                                                   </td><td> 3903606                                                   </td><td> 3907598                                                   </td><td> 3732014                                                   </td><td> 3577128                                                   </td><td> 3514084                                                   </td><td> 3286214                                                   </td></tr>\n",
       "\t<tr><td>Wikipedia:Hauptseite_de.wikipedia.org_mobile-web_all-agents</td><td> 2038711                                                   </td><td> 2036661                                                   </td><td> 2021334                                                   </td><td> 2002972                                                   </td><td> 2049018                                                   </td><td> 2037067                                                   </td><td> 2026156                                                   </td><td> 2023076                                                   </td><td> 2017539                                                   </td><td>⋯                                                          </td><td> 1692848                                                   </td><td> 1698963                                                   </td><td> 1711396                                                   </td><td> 1777967                                                   </td><td> 1792983                                                   </td><td> 1747623                                                   </td><td> 1724028                                                   </td><td> 1720079                                                   </td><td> 1696262                                                   </td><td> 1699720                                                   </td></tr>\n",
       "</tbody>\n",
       "</table>\n"
      ],
      "text/latex": [
       "\\begin{tabular}{r|lllllllllllllllllllllllllllllllllllllllllllllllllllllllllllllllllllllllllllllllllllllllllllllllllllllllllllllllllllllllllllllllllllllllllllllllllllllllllllllllllllllllllllllllllllllllllllllllllllllllllllllllllllllllllllllllllllllllllllllllllllllllllllllllllllllllllllllllllllllllllllllllllllllllllllllllllllllllllllllllllllllllllllllllllllllllllllllllllllllllllllllllllllllllllllllllllllllllllllllllllllllllllllllllllllllllllllllllllllllllllllllllllllllllllllllllllllllllllllllllllllllllllllllllllllllllllllllllllllllllllllllllllllllllllllllllllllllll}\n",
       " Page & X2015.07.01 & X2015.07.02 & X2015.07.03 & X2015.07.04 & X2015.07.05 & X2015.07.06 & X2015.07.07 & X2015.07.08 & X2015.07.09 & ⋯ & X2016.12.22 & X2016.12.23 & X2016.12.24 & X2016.12.25 & X2016.12.26 & X2016.12.27 & X2016.12.28 & X2016.12.29 & X2016.12.30 & X2016.12.31\\\\\n",
       "\\hline\n",
       "\t Main\\_Page\\_en.wikipedia.org\\_all-access\\_all-agents            & 20381245                                                            & 20752194                                                            & 19573967                                                            & 20439645                                                            & 20772109                                                            & 22544669                                                            & 21210887                                                            & 19107911                                                            & 19993848                                                            & ⋯                                                                   & 24201081                                                            & 22539246                                                            & 25056620                                                            & 25865746                                                            & 28342885                                                            & 26916991                                                            & 27025053                                                            & 26073819                                                            & 24363967                                                            & 26149541                                                           \\\\\n",
       "\t Main\\_Page\\_en.wikipedia.org\\_desktop\\_all-agents               & 11952559                                                            & 12344021                                                            & 11195848                                                            & 11982470                                                            & 12379684                                                            & 14164829                                                            & 12917172                                                            & 11089923                                                            & 12067334                                                            & ⋯                                                                   & 18583108                                                            & 16634676                                                            & 18554711                                                            & 18918826                                                            & 21473188                                                            & 20065005                                                            & 19751910                                                            & 19211634                                                            & 17100925                                                            & 19591761                                                           \\\\\n",
       "\t Main\\_Page\\_en.wikipedia.org\\_mobile-web\\_all-agents            &  8039732                                                            &  8018607                                                            &  7980511                                                            &  8024814                                                            &  7929962                                                            &  7959839                                                            &  7892357                                                            &  7607871                                                            &  7515302                                                            & ⋯                                                                   &  3892453                                                            &  3816041                                                            &  3728439                                                            &  4168094                                                            &  4243273                                                            &  4097335                                                            &  4168668                                                            &  4100929                                                            &  4118692                                                            &  3939419                                                           \\\\\n",
       "\t Wikipedia:Hauptseite\\_de.wikipedia.org\\_all-access\\_all-agents &  2983623                                                          &  2965848                                                          &  2900702                                                          &  2687450                                                          &  2827409                                                          &  3062343                                                          &  2999196                                                          &  2995270                                                          &  2995810                                                          & ⋯                                                                 &  3517877                                                          &  3520937                                                          &  3188722                                                          &  3643490                                                          &  3903606                                                          &  3907598                                                          &  3732014                                                          &  3577128                                                          &  3514084                                                          &  3286214                                                         \\\\\n",
       "\t Wikipedia:Hauptseite\\_de.wikipedia.org\\_mobile-web\\_all-agents &  2038711                                                          &  2036661                                                          &  2021334                                                          &  2002972                                                          &  2049018                                                          &  2037067                                                          &  2026156                                                          &  2023076                                                          &  2017539                                                          & ⋯                                                                 &  1692848                                                          &  1698963                                                          &  1711396                                                          &  1777967                                                          &  1792983                                                          &  1747623                                                          &  1724028                                                          &  1720079                                                          &  1696262                                                          &  1699720                                                         \\\\\n",
       "\\end{tabular}\n"
      ],
      "text/markdown": [
       "\n",
       "Page | X2015.07.01 | X2015.07.02 | X2015.07.03 | X2015.07.04 | X2015.07.05 | X2015.07.06 | X2015.07.07 | X2015.07.08 | X2015.07.09 | ⋯ | X2016.12.22 | X2016.12.23 | X2016.12.24 | X2016.12.25 | X2016.12.26 | X2016.12.27 | X2016.12.28 | X2016.12.29 | X2016.12.30 | X2016.12.31 | \n",
       "|---|---|---|---|---|\n",
       "| Main_Page_en.wikipedia.org_all-access_all-agents            | 20381245                                                    | 20752194                                                    | 19573967                                                    | 20439645                                                    | 20772109                                                    | 22544669                                                    | 21210887                                                    | 19107911                                                    | 19993848                                                    | ⋯                                                           | 24201081                                                    | 22539246                                                    | 25056620                                                    | 25865746                                                    | 28342885                                                    | 26916991                                                    | 27025053                                                    | 26073819                                                    | 24363967                                                    | 26149541                                                    | \n",
       "| Main_Page_en.wikipedia.org_desktop_all-agents               | 11952559                                                    | 12344021                                                    | 11195848                                                    | 11982470                                                    | 12379684                                                    | 14164829                                                    | 12917172                                                    | 11089923                                                    | 12067334                                                    | ⋯                                                           | 18583108                                                    | 16634676                                                    | 18554711                                                    | 18918826                                                    | 21473188                                                    | 20065005                                                    | 19751910                                                    | 19211634                                                    | 17100925                                                    | 19591761                                                    | \n",
       "| Main_Page_en.wikipedia.org_mobile-web_all-agents            |  8039732                                                    |  8018607                                                    |  7980511                                                    |  8024814                                                    |  7929962                                                    |  7959839                                                    |  7892357                                                    |  7607871                                                    |  7515302                                                    | ⋯                                                           |  3892453                                                    |  3816041                                                    |  3728439                                                    |  4168094                                                    |  4243273                                                    |  4097335                                                    |  4168668                                                    |  4100929                                                    |  4118692                                                    |  3939419                                                    | \n",
       "| Wikipedia:Hauptseite_de.wikipedia.org_all-access_all-agents |  2983623                                                    |  2965848                                                    |  2900702                                                    |  2687450                                                    |  2827409                                                    |  3062343                                                    |  2999196                                                    |  2995270                                                    |  2995810                                                    | ⋯                                                           |  3517877                                                    |  3520937                                                    |  3188722                                                    |  3643490                                                    |  3903606                                                    |  3907598                                                    |  3732014                                                    |  3577128                                                    |  3514084                                                    |  3286214                                                    | \n",
       "| Wikipedia:Hauptseite_de.wikipedia.org_mobile-web_all-agents |  2038711                                                    |  2036661                                                    |  2021334                                                    |  2002972                                                    |  2049018                                                    |  2037067                                                    |  2026156                                                    |  2023076                                                    |  2017539                                                    | ⋯                                                           |  1692848                                                    |  1698963                                                    |  1711396                                                    |  1777967                                                    |  1792983                                                    |  1747623                                                    |  1724028                                                    |  1720079                                                    |  1696262                                                    |  1699720                                                    | \n",
       "\n",
       "\n"
      ],
      "text/plain": [
       "  Page                                                        X2015.07.01\n",
       "1 Main_Page_en.wikipedia.org_all-access_all-agents            20381245   \n",
       "2 Main_Page_en.wikipedia.org_desktop_all-agents               11952559   \n",
       "3 Main_Page_en.wikipedia.org_mobile-web_all-agents             8039732   \n",
       "4 Wikipedia:Hauptseite_de.wikipedia.org_all-access_all-agents  2983623   \n",
       "5 Wikipedia:Hauptseite_de.wikipedia.org_mobile-web_all-agents  2038711   \n",
       "  X2015.07.02 X2015.07.03 X2015.07.04 X2015.07.05 X2015.07.06 X2015.07.07\n",
       "1 20752194    19573967    20439645    20772109    22544669    21210887   \n",
       "2 12344021    11195848    11982470    12379684    14164829    12917172   \n",
       "3  8018607     7980511     8024814     7929962     7959839     7892357   \n",
       "4  2965848     2900702     2687450     2827409     3062343     2999196   \n",
       "5  2036661     2021334     2002972     2049018     2037067     2026156   \n",
       "  X2015.07.08 X2015.07.09 ⋯ X2016.12.22 X2016.12.23 X2016.12.24 X2016.12.25\n",
       "1 19107911    19993848    ⋯ 24201081    22539246    25056620    25865746   \n",
       "2 11089923    12067334    ⋯ 18583108    16634676    18554711    18918826   \n",
       "3  7607871     7515302    ⋯  3892453     3816041     3728439     4168094   \n",
       "4  2995270     2995810    ⋯  3517877     3520937     3188722     3643490   \n",
       "5  2023076     2017539    ⋯  1692848     1698963     1711396     1777967   \n",
       "  X2016.12.26 X2016.12.27 X2016.12.28 X2016.12.29 X2016.12.30 X2016.12.31\n",
       "1 28342885    26916991    27025053    26073819    24363967    26149541   \n",
       "2 21473188    20065005    19751910    19211634    17100925    19591761   \n",
       "3  4243273     4097335     4168668     4100929     4118692     3939419   \n",
       "4  3903606     3907598     3732014     3577128     3514084     3286214   \n",
       "5  1792983     1747623     1724028     1720079     1696262     1699720   "
      ]
     },
     "metadata": {},
     "output_type": "display_data"
    }
   ],
   "source": [
    "df %>% arrange(desc(X2015.07.01)) %>% head(5)"
   ]
  },
  {
   "cell_type": "code",
   "execution_count": 11,
   "metadata": {},
   "outputs": [
    {
     "data": {
      "text/html": [
       "<ol class=list-inline>\n",
       "\t<li>145063</li>\n",
       "\t<li>551</li>\n",
       "</ol>\n"
      ],
      "text/latex": [
       "\\begin{enumerate*}\n",
       "\\item 145063\n",
       "\\item 551\n",
       "\\end{enumerate*}\n"
      ],
      "text/markdown": [
       "1. 145063\n",
       "2. 551\n",
       "\n",
       "\n"
      ],
      "text/plain": [
       "[1] 145063    551"
      ]
     },
     "metadata": {},
     "output_type": "display_data"
    }
   ],
   "source": [
    "dim(df)"
   ]
  },
  {
   "cell_type": "code",
   "execution_count": null,
   "metadata": {
    "collapsed": true
   },
   "outputs": [],
   "source": []
  }
 ],
 "metadata": {
  "kernelspec": {
   "display_name": "R",
   "language": "R",
   "name": "ir"
  },
  "language_info": {
   "codemirror_mode": "r",
   "file_extension": ".r",
   "mimetype": "text/x-r-source",
   "name": "R",
   "pygments_lexer": "r",
   "version": "3.3.3"
  }
 },
 "nbformat": 4,
 "nbformat_minor": 2
}
